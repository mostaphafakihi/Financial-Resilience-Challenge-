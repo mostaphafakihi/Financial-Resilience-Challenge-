{
 "cells": [
  {
   "cell_type": "code",
   "execution_count": 1,
   "metadata": {},
   "outputs": [],
   "source": [
    "import numpy as np\n",
    "import matplotlib.pyplot as plt\n",
    "import pandas as pd\n",
    "import seaborn as sns\n",
    "#plot\n",
    "plt.rcParams['figure.figsize'] = (12, 9)\n"
   ]
  },
  {
   "cell_type": "markdown",
   "metadata": {},
   "source": [
    "# Importation des données"
   ]
  },
  {
   "cell_type": "code",
   "execution_count": 2,
   "metadata": {},
   "outputs": [],
   "source": [
    "df = pd.read_csv('Train.csv')"
   ]
  },
  {
   "cell_type": "markdown",
   "metadata": {},
   "source": [
    "# Exploration et analyse de données :\n"
   ]
  },
  {
   "cell_type": "code",
   "execution_count": 3,
   "metadata": {},
   "outputs": [
    {
     "data": {
      "text/plain": [
       "(104867, 36)"
      ]
     },
     "execution_count": 3,
     "metadata": {},
     "output_type": "execute_result"
    }
   ],
   "source": [
    "df.shape\n"
   ]
  },
  {
   "cell_type": "code",
   "execution_count": 4,
   "metadata": {},
   "outputs": [
    {
     "data": {
      "text/html": [
       "<div>\n",
       "<style scoped>\n",
       "    .dataframe tbody tr th:only-of-type {\n",
       "        vertical-align: middle;\n",
       "    }\n",
       "\n",
       "    .dataframe tbody tr th {\n",
       "        vertical-align: top;\n",
       "    }\n",
       "\n",
       "    .dataframe thead th {\n",
       "        text-align: right;\n",
       "    }\n",
       "</style>\n",
       "<table border=\"1\" class=\"dataframe\">\n",
       "  <thead>\n",
       "    <tr style=\"text-align: right;\">\n",
       "      <th></th>\n",
       "      <th>ID</th>\n",
       "      <th>country</th>\n",
       "      <th>region</th>\n",
       "      <th>population</th>\n",
       "      <th>age</th>\n",
       "      <th>Q1</th>\n",
       "      <th>Q2</th>\n",
       "      <th>Q3</th>\n",
       "      <th>Q4</th>\n",
       "      <th>Q5</th>\n",
       "      <th>...</th>\n",
       "      <th>Q21</th>\n",
       "      <th>Q22</th>\n",
       "      <th>Q23</th>\n",
       "      <th>Q24</th>\n",
       "      <th>Q25</th>\n",
       "      <th>Q26</th>\n",
       "      <th>Q27</th>\n",
       "      <th>owns_mobile</th>\n",
       "      <th>Q28</th>\n",
       "      <th>target</th>\n",
       "    </tr>\n",
       "  </thead>\n",
       "  <tbody>\n",
       "    <tr>\n",
       "      <th>35377</th>\n",
       "      <td>ID_3390548202</td>\n",
       "      <td>Montenegro</td>\n",
       "      <td>Europe &amp; Central Asia (excluding high income)</td>\n",
       "      <td>5.090316e+05</td>\n",
       "      <td>24.0</td>\n",
       "      <td>1</td>\n",
       "      <td>1.0</td>\n",
       "      <td>2.0</td>\n",
       "      <td>2.0</td>\n",
       "      <td>1.0</td>\n",
       "      <td>...</td>\n",
       "      <td>1</td>\n",
       "      <td>1</td>\n",
       "      <td>2.0</td>\n",
       "      <td>2</td>\n",
       "      <td>2</td>\n",
       "      <td>2.0</td>\n",
       "      <td>NaN</td>\n",
       "      <td>1.0</td>\n",
       "      <td>1.0</td>\n",
       "      <td>1</td>\n",
       "    </tr>\n",
       "    <tr>\n",
       "      <th>61610</th>\n",
       "      <td>ID_5887947849</td>\n",
       "      <td>Iran, Islamic Rep.</td>\n",
       "      <td>Middle East &amp; North Africa (excluding high inc...</td>\n",
       "      <td>6.127271e+07</td>\n",
       "      <td>35.0</td>\n",
       "      <td>1</td>\n",
       "      <td>1.0</td>\n",
       "      <td>1.0</td>\n",
       "      <td>1.0</td>\n",
       "      <td>1.0</td>\n",
       "      <td>...</td>\n",
       "      <td>1</td>\n",
       "      <td>2</td>\n",
       "      <td>NaN</td>\n",
       "      <td>2</td>\n",
       "      <td>2</td>\n",
       "      <td>NaN</td>\n",
       "      <td>1.0</td>\n",
       "      <td>1.0</td>\n",
       "      <td>NaN</td>\n",
       "      <td>1</td>\n",
       "    </tr>\n",
       "    <tr>\n",
       "      <th>40302</th>\n",
       "      <td>ID_3863066060</td>\n",
       "      <td>Bulgaria</td>\n",
       "      <td>Europe &amp; Central Asia (excluding high income)</td>\n",
       "      <td>6.123296e+06</td>\n",
       "      <td>37.0</td>\n",
       "      <td>1</td>\n",
       "      <td>1.0</td>\n",
       "      <td>2.0</td>\n",
       "      <td>2.0</td>\n",
       "      <td>2.0</td>\n",
       "      <td>...</td>\n",
       "      <td>2</td>\n",
       "      <td>1</td>\n",
       "      <td>2.0</td>\n",
       "      <td>2</td>\n",
       "      <td>2</td>\n",
       "      <td>2.0</td>\n",
       "      <td>NaN</td>\n",
       "      <td>1.0</td>\n",
       "      <td>1.0</td>\n",
       "      <td>1</td>\n",
       "    </tr>\n",
       "    <tr>\n",
       "      <th>33939</th>\n",
       "      <td>ID_3256924515</td>\n",
       "      <td>China</td>\n",
       "      <td>East Asia &amp; Pacific (excluding high income)</td>\n",
       "      <td>1.134634e+09</td>\n",
       "      <td>57.0</td>\n",
       "      <td>2</td>\n",
       "      <td>NaN</td>\n",
       "      <td>NaN</td>\n",
       "      <td>NaN</td>\n",
       "      <td>NaN</td>\n",
       "      <td>...</td>\n",
       "      <td>2</td>\n",
       "      <td>2</td>\n",
       "      <td>NaN</td>\n",
       "      <td>2</td>\n",
       "      <td>2</td>\n",
       "      <td>2.0</td>\n",
       "      <td>2.0</td>\n",
       "      <td>1.0</td>\n",
       "      <td>1.0</td>\n",
       "      <td>1</td>\n",
       "    </tr>\n",
       "    <tr>\n",
       "      <th>89216</th>\n",
       "      <td>ID_8517331279</td>\n",
       "      <td>Pakistan</td>\n",
       "      <td>South Asia</td>\n",
       "      <td>1.257942e+08</td>\n",
       "      <td>35.0</td>\n",
       "      <td>2</td>\n",
       "      <td>NaN</td>\n",
       "      <td>NaN</td>\n",
       "      <td>NaN</td>\n",
       "      <td>NaN</td>\n",
       "      <td>...</td>\n",
       "      <td>2</td>\n",
       "      <td>2</td>\n",
       "      <td>NaN</td>\n",
       "      <td>2</td>\n",
       "      <td>2</td>\n",
       "      <td>2.0</td>\n",
       "      <td>2.0</td>\n",
       "      <td>1.0</td>\n",
       "      <td>2.0</td>\n",
       "      <td>1</td>\n",
       "    </tr>\n",
       "    <tr>\n",
       "      <th>48080</th>\n",
       "      <td>ID_4594283893</td>\n",
       "      <td>Hungary</td>\n",
       "      <td>High income: nonOECD</td>\n",
       "      <td>8.408621e+06</td>\n",
       "      <td>21.0</td>\n",
       "      <td>1</td>\n",
       "      <td>1.0</td>\n",
       "      <td>1.0</td>\n",
       "      <td>1.0</td>\n",
       "      <td>1.0</td>\n",
       "      <td>...</td>\n",
       "      <td>1</td>\n",
       "      <td>1</td>\n",
       "      <td>2.0</td>\n",
       "      <td>2</td>\n",
       "      <td>2</td>\n",
       "      <td>3.0</td>\n",
       "      <td>NaN</td>\n",
       "      <td>1.0</td>\n",
       "      <td>1.0</td>\n",
       "      <td>1</td>\n",
       "    </tr>\n",
       "    <tr>\n",
       "      <th>14093</th>\n",
       "      <td>ID_1344396918</td>\n",
       "      <td>West Bank and Gaza</td>\n",
       "      <td>Middle East &amp; North Africa (excluding high inc...</td>\n",
       "      <td>2.738738e+06</td>\n",
       "      <td>71.0</td>\n",
       "      <td>2</td>\n",
       "      <td>NaN</td>\n",
       "      <td>NaN</td>\n",
       "      <td>NaN</td>\n",
       "      <td>NaN</td>\n",
       "      <td>...</td>\n",
       "      <td>2</td>\n",
       "      <td>2</td>\n",
       "      <td>NaN</td>\n",
       "      <td>2</td>\n",
       "      <td>2</td>\n",
       "      <td>2.0</td>\n",
       "      <td>2.0</td>\n",
       "      <td>2.0</td>\n",
       "      <td>NaN</td>\n",
       "      <td>1</td>\n",
       "    </tr>\n",
       "    <tr>\n",
       "      <th>102195</th>\n",
       "      <td>ID_9742177274</td>\n",
       "      <td>Venezuela, RB</td>\n",
       "      <td>Latin America &amp; Caribbean (excluding high income)</td>\n",
       "      <td>2.276236e+07</td>\n",
       "      <td>42.0</td>\n",
       "      <td>2</td>\n",
       "      <td>NaN</td>\n",
       "      <td>NaN</td>\n",
       "      <td>NaN</td>\n",
       "      <td>NaN</td>\n",
       "      <td>...</td>\n",
       "      <td>1</td>\n",
       "      <td>2</td>\n",
       "      <td>NaN</td>\n",
       "      <td>2</td>\n",
       "      <td>2</td>\n",
       "      <td>2.0</td>\n",
       "      <td>2.0</td>\n",
       "      <td>1.0</td>\n",
       "      <td>1.0</td>\n",
       "      <td>0</td>\n",
       "    </tr>\n",
       "    <tr>\n",
       "      <th>102219</th>\n",
       "      <td>ID_9744746254</td>\n",
       "      <td>Morocco</td>\n",
       "      <td>Middle East &amp; North Africa (excluding high inc...</td>\n",
       "      <td>2.555017e+07</td>\n",
       "      <td>32.0</td>\n",
       "      <td>2</td>\n",
       "      <td>NaN</td>\n",
       "      <td>NaN</td>\n",
       "      <td>NaN</td>\n",
       "      <td>NaN</td>\n",
       "      <td>...</td>\n",
       "      <td>2</td>\n",
       "      <td>2</td>\n",
       "      <td>NaN</td>\n",
       "      <td>2</td>\n",
       "      <td>2</td>\n",
       "      <td>2.0</td>\n",
       "      <td>2.0</td>\n",
       "      <td>1.0</td>\n",
       "      <td>1.0</td>\n",
       "      <td>0</td>\n",
       "    </tr>\n",
       "    <tr>\n",
       "      <th>21160</th>\n",
       "      <td>ID_2023009034</td>\n",
       "      <td>Lao PDR</td>\n",
       "      <td>East Asia &amp; Pacific (excluding high income)</td>\n",
       "      <td>4.509951e+06</td>\n",
       "      <td>65.0</td>\n",
       "      <td>2</td>\n",
       "      <td>NaN</td>\n",
       "      <td>NaN</td>\n",
       "      <td>NaN</td>\n",
       "      <td>NaN</td>\n",
       "      <td>...</td>\n",
       "      <td>1</td>\n",
       "      <td>2</td>\n",
       "      <td>NaN</td>\n",
       "      <td>2</td>\n",
       "      <td>2</td>\n",
       "      <td>1.0</td>\n",
       "      <td>NaN</td>\n",
       "      <td>1.0</td>\n",
       "      <td>2.0</td>\n",
       "      <td>1</td>\n",
       "    </tr>\n",
       "  </tbody>\n",
       "</table>\n",
       "<p>10 rows × 36 columns</p>\n",
       "</div>"
      ],
      "text/plain": [
       "                   ID             country  \\\n",
       "35377   ID_3390548202          Montenegro   \n",
       "61610   ID_5887947849  Iran, Islamic Rep.   \n",
       "40302   ID_3863066060            Bulgaria   \n",
       "33939   ID_3256924515               China   \n",
       "89216   ID_8517331279            Pakistan   \n",
       "48080   ID_4594283893             Hungary   \n",
       "14093   ID_1344396918  West Bank and Gaza   \n",
       "102195  ID_9742177274       Venezuela, RB   \n",
       "102219  ID_9744746254             Morocco   \n",
       "21160   ID_2023009034             Lao PDR   \n",
       "\n",
       "                                                   region    population   age  \\\n",
       "35377       Europe & Central Asia (excluding high income)  5.090316e+05  24.0   \n",
       "61610   Middle East & North Africa (excluding high inc...  6.127271e+07  35.0   \n",
       "40302       Europe & Central Asia (excluding high income)  6.123296e+06  37.0   \n",
       "33939         East Asia & Pacific (excluding high income)  1.134634e+09  57.0   \n",
       "89216                                          South Asia  1.257942e+08  35.0   \n",
       "48080                                High income: nonOECD  8.408621e+06  21.0   \n",
       "14093   Middle East & North Africa (excluding high inc...  2.738738e+06  71.0   \n",
       "102195  Latin America & Caribbean (excluding high income)  2.276236e+07  42.0   \n",
       "102219  Middle East & North Africa (excluding high inc...  2.555017e+07  32.0   \n",
       "21160         East Asia & Pacific (excluding high income)  4.509951e+06  65.0   \n",
       "\n",
       "        Q1   Q2   Q3   Q4   Q5  ...  Q21  Q22  Q23  Q24  Q25  Q26  Q27  \\\n",
       "35377    1  1.0  2.0  2.0  1.0  ...    1    1  2.0    2    2  2.0  NaN   \n",
       "61610    1  1.0  1.0  1.0  1.0  ...    1    2  NaN    2    2  NaN  1.0   \n",
       "40302    1  1.0  2.0  2.0  2.0  ...    2    1  2.0    2    2  2.0  NaN   \n",
       "33939    2  NaN  NaN  NaN  NaN  ...    2    2  NaN    2    2  2.0  2.0   \n",
       "89216    2  NaN  NaN  NaN  NaN  ...    2    2  NaN    2    2  2.0  2.0   \n",
       "48080    1  1.0  1.0  1.0  1.0  ...    1    1  2.0    2    2  3.0  NaN   \n",
       "14093    2  NaN  NaN  NaN  NaN  ...    2    2  NaN    2    2  2.0  2.0   \n",
       "102195   2  NaN  NaN  NaN  NaN  ...    1    2  NaN    2    2  2.0  2.0   \n",
       "102219   2  NaN  NaN  NaN  NaN  ...    2    2  NaN    2    2  2.0  2.0   \n",
       "21160    2  NaN  NaN  NaN  NaN  ...    1    2  NaN    2    2  1.0  NaN   \n",
       "\n",
       "        owns_mobile  Q28  target  \n",
       "35377           1.0  1.0       1  \n",
       "61610           1.0  NaN       1  \n",
       "40302           1.0  1.0       1  \n",
       "33939           1.0  1.0       1  \n",
       "89216           1.0  2.0       1  \n",
       "48080           1.0  1.0       1  \n",
       "14093           2.0  NaN       1  \n",
       "102195          1.0  1.0       0  \n",
       "102219          1.0  1.0       0  \n",
       "21160           1.0  2.0       1  \n",
       "\n",
       "[10 rows x 36 columns]"
      ]
     },
     "execution_count": 4,
     "metadata": {},
     "output_type": "execute_result"
    }
   ],
   "source": [
    "df.sample(10)"
   ]
  },
  {
   "cell_type": "markdown",
   "metadata": {},
   "source": [
    "DEFINITIONS DES VARIABLES:\n",
    "\n",
    "For columns(Q1 - Q28), Value 1 - Yes, 2 - No, 3-Don’t Know 4 - refused to answer.\n",
    "\n",
    "Q1,Has ATM/debit card,\n",
    "Q2,Is the ATM connect to an account with your name?,\n",
    "Q3,Purchased with the ATM,\n",
    "Q4,Use of mobile or internet to make payments or send money,\n",
    "Q7,Used the credit card in 12 months,\n",
    "Q8,Money deposits to a bank account in the last 12 months,\n",
    "Q9,Money withdrawals from a bank account in the last 12 months,\n",
    "Q10a,Used the Internet in the last 12 months;- to make payments for the bills -,\n",
    "Q15,Borrowed money for health/medical purposes in the last 12 months,\n",
    "Q19,Sent/given money to friend/relative,\n",
    "Q20,Received money from friend or relative,\n",
    "Q21,\"Payments for electricity, water, or trash in the last 12 months\",\n",
    "Q23,Employed by government or public sector -12 months,\n",
    "Q24,Received any form of financial support from the government,\n",
    "Q25,Pension in the last 12 months,\n",
    "Q27,Received money from your business in last 12 months,\n",
    "owns_mobile,Owns a mobile phone,\n",
    "\n",
    "Pour les autres questions voir: README.md\n"
   ]
  },
  {
   "cell_type": "markdown",
   "metadata": {},
   "source": [
    "pourcentages des valeurs manquantes(NAN) dans notre dataframe :\n"
   ]
  },
  {
   "cell_type": "code",
   "execution_count": 5,
   "metadata": {},
   "outputs": [
    {
     "data": {
      "text/plain": [
       "ID             0.000000\n",
       "Q25            0.000000\n",
       "Q24            0.000000\n",
       "Q22            0.000000\n",
       "Q21            0.000000\n",
       "Q17b           0.000000\n",
       "Q17a           0.000000\n",
       "Q16            0.000000\n",
       "Q15            0.000000\n",
       "Q14            0.000000\n",
       "Q13a           0.000000\n",
       "Q11            0.000000\n",
       "Q10b           0.000000\n",
       "Q10a           0.000000\n",
       "Q12            0.000000\n",
       "target         0.000000\n",
       "Q6             0.000000\n",
       "country        0.000000\n",
       "population     0.000000\n",
       "Q1             0.000000\n",
       "owns_mobile    0.000010\n",
       "age            0.002737\n",
       "region         0.006475\n",
       "Q26            0.230511\n",
       "Q20            0.230511\n",
       "Q19            0.230511\n",
       "Q28            0.295660\n",
       "Q9             0.437106\n",
       "Q8             0.437106\n",
       "Q27            0.442828\n",
       "Q4             0.452211\n",
       "Q5             0.452211\n",
       "Q2             0.544938\n",
       "Q3             0.568844\n",
       "Q23            0.641641\n",
       "Q7             0.803170\n",
       "dtype: float64"
      ]
     },
     "execution_count": 5,
     "metadata": {},
     "output_type": "execute_result"
    }
   ],
   "source": [
    "(df.isna().sum()/df.shape[0]).sort_values()"
   ]
  },
  {
   "cell_type": "markdown",
   "metadata": {},
   "source": [
    "Elimination des colonnes avec NAN >0.8 et les colonnes ID et population.\n"
   ]
  },
  {
   "cell_type": "code",
   "execution_count": 7,
   "metadata": {},
   "outputs": [
    {
     "data": {
      "text/html": [
       "<div>\n",
       "<style scoped>\n",
       "    .dataframe tbody tr th:only-of-type {\n",
       "        vertical-align: middle;\n",
       "    }\n",
       "\n",
       "    .dataframe tbody tr th {\n",
       "        vertical-align: top;\n",
       "    }\n",
       "\n",
       "    .dataframe thead th {\n",
       "        text-align: right;\n",
       "    }\n",
       "</style>\n",
       "<table border=\"1\" class=\"dataframe\">\n",
       "  <thead>\n",
       "    <tr style=\"text-align: right;\">\n",
       "      <th></th>\n",
       "      <th>country</th>\n",
       "      <th>region</th>\n",
       "      <th>population</th>\n",
       "      <th>age</th>\n",
       "      <th>Q1</th>\n",
       "      <th>Q2</th>\n",
       "      <th>Q3</th>\n",
       "      <th>Q4</th>\n",
       "      <th>Q5</th>\n",
       "      <th>Q6</th>\n",
       "      <th>...</th>\n",
       "      <th>Q21</th>\n",
       "      <th>Q22</th>\n",
       "      <th>Q23</th>\n",
       "      <th>Q24</th>\n",
       "      <th>Q25</th>\n",
       "      <th>Q26</th>\n",
       "      <th>Q27</th>\n",
       "      <th>owns_mobile</th>\n",
       "      <th>Q28</th>\n",
       "      <th>target</th>\n",
       "    </tr>\n",
       "  </thead>\n",
       "  <tbody>\n",
       "    <tr>\n",
       "      <th>0</th>\n",
       "      <td>Morocco</td>\n",
       "      <td>Middle East &amp; North Africa (excluding high inc...</td>\n",
       "      <td>25550170.0</td>\n",
       "      <td>66.0</td>\n",
       "      <td>2</td>\n",
       "      <td>NaN</td>\n",
       "      <td>NaN</td>\n",
       "      <td>NaN</td>\n",
       "      <td>NaN</td>\n",
       "      <td>2</td>\n",
       "      <td>...</td>\n",
       "      <td>1</td>\n",
       "      <td>2</td>\n",
       "      <td>NaN</td>\n",
       "      <td>1</td>\n",
       "      <td>2</td>\n",
       "      <td>2.0</td>\n",
       "      <td>2.0</td>\n",
       "      <td>1.0</td>\n",
       "      <td>1.0</td>\n",
       "      <td>0</td>\n",
       "    </tr>\n",
       "    <tr>\n",
       "      <th>1</th>\n",
       "      <td>Lebanon</td>\n",
       "      <td>Middle East &amp; North Africa (excluding high inc...</td>\n",
       "      <td>4591023.0</td>\n",
       "      <td>44.0</td>\n",
       "      <td>2</td>\n",
       "      <td>NaN</td>\n",
       "      <td>NaN</td>\n",
       "      <td>2.0</td>\n",
       "      <td>2.0</td>\n",
       "      <td>2</td>\n",
       "      <td>...</td>\n",
       "      <td>1</td>\n",
       "      <td>2</td>\n",
       "      <td>NaN</td>\n",
       "      <td>2</td>\n",
       "      <td>2</td>\n",
       "      <td>2.0</td>\n",
       "      <td>1.0</td>\n",
       "      <td>1.0</td>\n",
       "      <td>1.0</td>\n",
       "      <td>1</td>\n",
       "    </tr>\n",
       "    <tr>\n",
       "      <th>2</th>\n",
       "      <td>Morocco</td>\n",
       "      <td>Middle East &amp; North Africa (excluding high inc...</td>\n",
       "      <td>25550170.0</td>\n",
       "      <td>29.0</td>\n",
       "      <td>1</td>\n",
       "      <td>1.0</td>\n",
       "      <td>1.0</td>\n",
       "      <td>2.0</td>\n",
       "      <td>2.0</td>\n",
       "      <td>2</td>\n",
       "      <td>...</td>\n",
       "      <td>1</td>\n",
       "      <td>1</td>\n",
       "      <td>2.0</td>\n",
       "      <td>2</td>\n",
       "      <td>2</td>\n",
       "      <td>2.0</td>\n",
       "      <td>NaN</td>\n",
       "      <td>1.0</td>\n",
       "      <td>1.0</td>\n",
       "      <td>0</td>\n",
       "    </tr>\n",
       "    <tr>\n",
       "      <th>3</th>\n",
       "      <td>Canada</td>\n",
       "      <td>High income: OECD</td>\n",
       "      <td>30491168.0</td>\n",
       "      <td>44.0</td>\n",
       "      <td>1</td>\n",
       "      <td>1.0</td>\n",
       "      <td>1.0</td>\n",
       "      <td>1.0</td>\n",
       "      <td>1.0</td>\n",
       "      <td>2</td>\n",
       "      <td>...</td>\n",
       "      <td>1</td>\n",
       "      <td>1</td>\n",
       "      <td>2.0</td>\n",
       "      <td>1</td>\n",
       "      <td>2</td>\n",
       "      <td>NaN</td>\n",
       "      <td>NaN</td>\n",
       "      <td>1.0</td>\n",
       "      <td>NaN</td>\n",
       "      <td>1</td>\n",
       "    </tr>\n",
       "    <tr>\n",
       "      <th>4</th>\n",
       "      <td>Mexico</td>\n",
       "      <td>Latin America &amp; Caribbean (excluding high income)</td>\n",
       "      <td>93002320.0</td>\n",
       "      <td>36.0</td>\n",
       "      <td>2</td>\n",
       "      <td>NaN</td>\n",
       "      <td>NaN</td>\n",
       "      <td>NaN</td>\n",
       "      <td>NaN</td>\n",
       "      <td>2</td>\n",
       "      <td>...</td>\n",
       "      <td>1</td>\n",
       "      <td>2</td>\n",
       "      <td>NaN</td>\n",
       "      <td>1</td>\n",
       "      <td>2</td>\n",
       "      <td>2.0</td>\n",
       "      <td>2.0</td>\n",
       "      <td>1.0</td>\n",
       "      <td>1.0</td>\n",
       "      <td>1</td>\n",
       "    </tr>\n",
       "  </tbody>\n",
       "</table>\n",
       "<p>5 rows × 34 columns</p>\n",
       "</div>"
      ],
      "text/plain": [
       "   country                                             region  population  \\\n",
       "0  Morocco  Middle East & North Africa (excluding high inc...  25550170.0   \n",
       "1  Lebanon  Middle East & North Africa (excluding high inc...   4591023.0   \n",
       "2  Morocco  Middle East & North Africa (excluding high inc...  25550170.0   \n",
       "3   Canada                                  High income: OECD  30491168.0   \n",
       "4   Mexico  Latin America & Caribbean (excluding high income)  93002320.0   \n",
       "\n",
       "    age  Q1   Q2   Q3   Q4   Q5  Q6  ...  Q21  Q22  Q23  Q24  Q25  Q26  Q27  \\\n",
       "0  66.0   2  NaN  NaN  NaN  NaN   2  ...    1    2  NaN    1    2  2.0  2.0   \n",
       "1  44.0   2  NaN  NaN  2.0  2.0   2  ...    1    2  NaN    2    2  2.0  1.0   \n",
       "2  29.0   1  1.0  1.0  2.0  2.0   2  ...    1    1  2.0    2    2  2.0  NaN   \n",
       "3  44.0   1  1.0  1.0  1.0  1.0   2  ...    1    1  2.0    1    2  NaN  NaN   \n",
       "4  36.0   2  NaN  NaN  NaN  NaN   2  ...    1    2  NaN    1    2  2.0  2.0   \n",
       "\n",
       "   owns_mobile  Q28  target  \n",
       "0          1.0  1.0       0  \n",
       "1          1.0  1.0       1  \n",
       "2          1.0  1.0       0  \n",
       "3          1.0  NaN       1  \n",
       "4          1.0  1.0       1  \n",
       "\n",
       "[5 rows x 34 columns]"
      ]
     },
     "execution_count": 7,
     "metadata": {},
     "output_type": "execute_result"
    }
   ],
   "source": [
    "\n",
    "df = df[df.columns[df.isna().sum()/df.shape[0]<0.8]]\n",
    "\n",
    "df = df.drop(['ID','population'],axis=1)\n",
    "\n",
    "df.head()"
   ]
  },
  {
   "cell_type": "code",
   "execution_count": 16,
   "metadata": {},
   "outputs": [
    {
     "data": {
      "text/plain": [
       "Morocco                3514\n",
       "China                  2357\n",
       "India                  2036\n",
       "Russian Federation     1310\n",
       "Cambodia               1114\n",
       "                       ... \n",
       "Georgia                 600\n",
       "Turkmenistan            596\n",
       "Azerbaijan              563\n",
       "Trinidad and Tobago     329\n",
       "Haiti                   320\n",
       "Name: country, Length: 144, dtype: int64"
      ]
     },
     "execution_count": 16,
     "metadata": {},
     "output_type": "execute_result"
    }
   ],
   "source": [
    "#compter le nombre des repetitions\n",
    "df['country'].value_counts()"
   ]
  },
  {
   "cell_type": "code",
   "execution_count": 19,
   "metadata": {},
   "outputs": [
    {
     "data": {
      "text/plain": [
       "<matplotlib.axes._subplots.AxesSubplot at 0x221991c9c88>"
      ]
     },
     "execution_count": 19,
     "metadata": {},
     "output_type": "execute_result"
    },
    {
     "data": {
      "image/png": "[encoded data removed]",
      "text/plain": [
       "<Figure size 864x648 with 1 Axes>"
      ]
     },
     "metadata": {
      "needs_background": "light"
     },
     "output_type": "display_data"
    }
   ],
   "source": [
    "df.Q13a.plot.hist(10000)"
   ]
  },
  {
   "cell_type": "markdown",
   "metadata": {},
   "source": [
    "la plus part a repondu NON à la question: Épargner l'argent dans une banque/institutions financières"
   ]
  },
  {
   "cell_type": "code",
   "execution_count": 20,
   "metadata": {},
   "outputs": [
    {
     "data": {
      "text/plain": [
       "<matplotlib.axes._subplots.AxesSubplot at 0x22199c26148>"
      ]
     },
     "execution_count": 20,
     "metadata": {},
     "output_type": "execute_result"
    },
    {
     "data": {
      "image/png": "[encoded data removed]",
      "text/plain": [
       "<Figure size 864x648 with 1 Axes>"
      ]
     },
     "metadata": {
      "needs_background": "light"
     },
     "output_type": "display_data"
    }
   ],
   "source": [
    "df.Q21.plot.hist(10000)"
   ]
  },
  {
   "cell_type": "markdown",
   "metadata": {},
   "source": [
    "Plus que 60000 ont repondu par OUI à la question: Q21, \"Paiements pour l'électricité, l'eau ou les ordures au cours des 12 derniers mois\","
   ]
  },
  {
   "cell_type": "code",
   "execution_count": 27,
   "metadata": {},
   "outputs": [
    {
     "data": {
      "text/plain": [
       "<matplotlib.axes._subplots.AxesSubplot at 0x22198fa3e08>"
      ]
     },
     "execution_count": 27,
     "metadata": {},
     "output_type": "execute_result"
    },
    {
     "data": {
      "image/png": "[encoded data removed]",
      "text/plain": [
       "<Figure size 864x648 with 2 Axes>"
      ]
     },
     "metadata": {
      "needs_background": "light"
     },
     "output_type": "display_data"
    }
   ],
   "source": [
    "# la correlation entre les colonnes\n",
    "sns.heatmap(df.corr())"
   ]
  },
  {
   "cell_type": "code",
   "execution_count": 30,
   "metadata": {},
   "outputs": [
    {
     "data": {
      "text/plain": [
       "<matplotlib.axes._subplots.AxesSubplot at 0x221c1d69948>"
      ]
     },
     "execution_count": 30,
     "metadata": {},
     "output_type": "execute_result"
    },
    {
     "data": {
      "image/png": "[encoded data removed]",
      "text/plain": [
       "<Figure size 864x648 with 1 Axes>"
      ]
     },
     "metadata": {
      "needs_background": "light"
     },
     "output_type": "display_data"
    }
   ],
   "source": [
    "sns.violinplot(x = 'Q15',y = 'Q19',data= df)"
   ]
  },
  {
   "cell_type": "code",
   "execution_count": 31,
   "metadata": {},
   "outputs": [
    {
     "data": {
      "text/plain": [
       "<matplotlib.axes._subplots.AxesSubplot at 0x221c1917d48>"
      ]
     },
     "execution_count": 31,
     "metadata": {},
     "output_type": "execute_result"
    },
    {
     "data": {
      "image/png": "[encoded data removed]",
      "text/plain": [
       "<Figure size 864x648 with 1 Axes>"
      ]
     },
     "metadata": {
      "needs_background": "light"
     },
     "output_type": "display_data"
    }
   ],
   "source": [
    "sns.violinplot(x = 'Q15',y = 'Q11',data= df)"
   ]
  },
  {
   "cell_type": "markdown",
   "metadata": {},
   "source": [
    "Q11 Savings in the last 12 months to start a business/farm"
   ]
  },
  {
   "cell_type": "code",
   "execution_count": 35,
   "metadata": {},
   "outputs": [
    {
     "data": {
      "text/plain": [
       "Q11\n",
       "1    0.755222\n",
       "2    0.553724\n",
       "3    0.385993\n",
       "4    0.649123\n",
       "Name: target, dtype: float64"
      ]
     },
     "execution_count": 35,
     "metadata": {},
     "output_type": "execute_result"
    }
   ],
   "source": [
    "df.groupby('Q11').target.mean()"
   ]
  },
  {
   "cell_type": "markdown",
   "metadata": {},
   "source": [
    "#commentaire:\n",
    "75% qui ont repondu oui à la qst 11 ce sont des individus financièrement résilients"
   ]
  },
  {
   "cell_type": "markdown",
   "metadata": {},
   "source": [
    "Q15,Borrowed money for health/medical purposes in the last 12 months,"
   ]
  },
  {
   "cell_type": "code",
   "execution_count": 36,
   "metadata": {},
   "outputs": [
    {
     "data": {
      "text/plain": [
       "Q15\n",
       "1    0.463604\n",
       "2    0.596140\n",
       "3    0.396146\n",
       "4    0.536424\n",
       "Name: target, dtype: float64"
      ]
     },
     "execution_count": 36,
     "metadata": {},
     "output_type": "execute_result"
    }
   ],
   "source": [
    "df.groupby('Q15').target.mean()"
   ]
  },
  {
   "cell_type": "markdown",
   "metadata": {},
   "source": [
    "Q8,Money deposits to a bank account in the last 12 months,\n"
   ]
  },
  {
   "cell_type": "code",
   "execution_count": 37,
   "metadata": {},
   "outputs": [
    {
     "data": {
      "text/plain": [
       "Q8\n",
       "1.0    0.749355\n",
       "2.0    0.518637\n",
       "3.0    0.556604\n",
       "4.0    0.715328\n",
       "Name: target, dtype: float64"
      ]
     },
     "execution_count": 37,
     "metadata": {},
     "output_type": "execute_result"
    }
   ],
   "source": [
    "df.groupby('Q8').target.mean()"
   ]
  },
  {
   "cell_type": "code",
   "execution_count": 38,
   "metadata": {},
   "outputs": [
    {
     "data": {
      "text/plain": [
       "<matplotlib.axes._subplots.AxesSubplot at 0x221c2011b48>"
      ]
     },
     "execution_count": 38,
     "metadata": {},
     "output_type": "execute_result"
    },
    {
     "data": {
      "image/png": "[encoded data removed]",
      "text/plain": [
       "<Figure size 864x648 with 1 Axes>"
      ]
     },
     "metadata": {
      "needs_background": "light"
     },
     "output_type": "display_data"
    }
   ],
   "source": [
    "#distribution de l'age selon target\n",
    "sns.violinplot(x='target',y='age',data = df)\n"
   ]
  },
  {
   "cell_type": "code",
   "execution_count": 41,
   "metadata": {},
   "outputs": [
    {
     "data": {
      "text/plain": [
       "<matplotlib.axes._subplots.AxesSubplot at 0x221c20b8748>"
      ]
     },
     "execution_count": 41,
     "metadata": {},
     "output_type": "execute_result"
    },
    {
     "data": {
      "image/png": "[encoded data removed]",
      "text/plain": [
       "<Figure size 864x648 with 1 Axes>"
      ]
     },
     "metadata": {
      "needs_background": "light"
     },
     "output_type": "display_data"
    }
   ],
   "source": [
    "#distribution du qst 19 selon target\n",
    "#Q19 Sent/given money to friend/relative,\n",
    "sns.violinplot(y='target',x='Q19',data = df)"
   ]
  },
  {
   "cell_type": "code",
   "execution_count": 42,
   "metadata": {},
   "outputs": [
    {
     "data": {
      "text/plain": [
       "<matplotlib.axes._subplots.AxesSubplot at 0x221c20f1048>"
      ]
     },
     "execution_count": 42,
     "metadata": {},
     "output_type": "execute_result"
    },
    {
     "data": {
      "image/png": "[encoded data removed]",
      "text/plain": [
       "<Figure size 864x648 with 1 Axes>"
      ]
     },
     "metadata": {
      "needs_background": "light"
     },
     "output_type": "display_data"
    }
   ],
   "source": [
    "#distribution du qst 21 selon target\n",
    "#Q21,\"Payments for electricity, water, or trash in the last 12 months\",\n",
    "sns.violinplot(x='target',y='Q21',data = df)"
   ]
  },
  {
   "cell_type": "code",
   "execution_count": 45,
   "metadata": {},
   "outputs": [],
   "source": [
    "la correlation entre target les variables"
   ]
  },
  {
   "cell_type": "code",
   "execution_count": 46,
   "metadata": {},
   "outputs": [
    {
     "data": {
      "text/html": [
       "<div>\n",
       "<style scoped>\n",
       "    .dataframe tbody tr th:only-of-type {\n",
       "        vertical-align: middle;\n",
       "    }\n",
       "\n",
       "    .dataframe tbody tr th {\n",
       "        vertical-align: top;\n",
       "    }\n",
       "\n",
       "    .dataframe thead th {\n",
       "        text-align: right;\n",
       "    }\n",
       "</style>\n",
       "<table border=\"1\" class=\"dataframe\">\n",
       "  <thead>\n",
       "    <tr style=\"text-align: right;\">\n",
       "      <th></th>\n",
       "      <th>age</th>\n",
       "      <th>Q1</th>\n",
       "      <th>Q2</th>\n",
       "      <th>Q3</th>\n",
       "      <th>Q4</th>\n",
       "      <th>Q5</th>\n",
       "      <th>Q6</th>\n",
       "      <th>Q8</th>\n",
       "      <th>Q9</th>\n",
       "      <th>Q10a</th>\n",
       "      <th>...</th>\n",
       "      <th>Q21</th>\n",
       "      <th>Q22</th>\n",
       "      <th>Q23</th>\n",
       "      <th>Q24</th>\n",
       "      <th>Q25</th>\n",
       "      <th>Q26</th>\n",
       "      <th>Q27</th>\n",
       "      <th>owns_mobile</th>\n",
       "      <th>Q28</th>\n",
       "      <th>target</th>\n",
       "    </tr>\n",
       "  </thead>\n",
       "  <tbody>\n",
       "    <tr>\n",
       "      <th>target</th>\n",
       "      <td>0.02198</td>\n",
       "      <td>-0.258509</td>\n",
       "      <td>-0.060496</td>\n",
       "      <td>-0.145656</td>\n",
       "      <td>-0.18383</td>\n",
       "      <td>-0.182326</td>\n",
       "      <td>-0.227099</td>\n",
       "      <td>-0.19173</td>\n",
       "      <td>-0.173636</td>\n",
       "      <td>-0.23244</td>\n",
       "      <td>...</td>\n",
       "      <td>-0.185826</td>\n",
       "      <td>-0.197286</td>\n",
       "      <td>-0.091015</td>\n",
       "      <td>-0.024796</td>\n",
       "      <td>-0.05387</td>\n",
       "      <td>-0.049123</td>\n",
       "      <td>-0.133749</td>\n",
       "      <td>-0.198927</td>\n",
       "      <td>-0.118289</td>\n",
       "      <td>1.0</td>\n",
       "    </tr>\n",
       "  </tbody>\n",
       "</table>\n",
       "<p>1 rows × 31 columns</p>\n",
       "</div>"
      ],
      "text/plain": [
       "            age        Q1        Q2        Q3       Q4        Q5        Q6  \\\n",
       "target  0.02198 -0.258509 -0.060496 -0.145656 -0.18383 -0.182326 -0.227099   \n",
       "\n",
       "             Q8        Q9     Q10a  ...       Q21       Q22       Q23  \\\n",
       "target -0.19173 -0.173636 -0.23244  ... -0.185826 -0.197286 -0.091015   \n",
       "\n",
       "             Q24      Q25       Q26       Q27  owns_mobile       Q28  target  \n",
       "target -0.024796 -0.05387 -0.049123 -0.133749    -0.198927 -0.118289     1.0  \n",
       "\n",
       "[1 rows x 31 columns]"
      ]
     },
     "execution_count": 46,
     "metadata": {},
     "output_type": "execute_result"
    }
   ],
   "source": [
    "df.corr()[['target']].T"
   ]
  },
  {
   "cell_type": "markdown",
   "metadata": {},
   "source": [
    "# Nettoyage de NAN"
   ]
  },
  {
   "cell_type": "code",
   "execution_count": null,
   "metadata": {},
   "outputs": [],
   "source": [
    "le nombre des NAN par colonne"
   ]
  },
  {
   "cell_type": "code",
   "execution_count": 18,
   "metadata": {
    "scrolled": true
   },
   "outputs": [
    {
     "data": {
      "text/plain": [
       "country            0\n",
       "region             0\n",
       "age                0\n",
       "Q1                 0\n",
       "Q2             57146\n",
       "Q3             59653\n",
       "Q4             47422\n",
       "Q5             47422\n",
       "Q6                 0\n",
       "Q8             45838\n",
       "Q9             45838\n",
       "Q10a               0\n",
       "Q10b               0\n",
       "Q11                0\n",
       "Q12                0\n",
       "Q13a               0\n",
       "Q14                0\n",
       "Q15                0\n",
       "Q16                0\n",
       "Q17a               0\n",
       "Q17b               0\n",
       "Q19            24173\n",
       "Q20            24173\n",
       "Q21                0\n",
       "Q22                0\n",
       "Q23            67287\n",
       "Q24                0\n",
       "Q25                0\n",
       "Q26            24173\n",
       "Q27            46438\n",
       "owns_mobile        1\n",
       "Q28            31005\n",
       "target             0\n",
       "dtype: int64"
      ]
     },
     "execution_count": 18,
     "metadata": {},
     "output_type": "execute_result"
    }
   ],
   "source": [
    "df.isnull().sum()"
   ]
  },
  {
   "cell_type": "markdown",
   "metadata": {},
   "source": [
    "remlacant les ages manquants par la moyenne,\n",
    "et les regions qui manquent par le mot 'inkonnu'"
   ]
  },
  {
   "cell_type": "code",
   "execution_count": 14,
   "metadata": {},
   "outputs": [],
   "source": [
    "df.loc[df['region'].isna(), 'region'] = 'inkonnu'\n",
    "df.loc[df['age'].isna(), 'age'] = df['age'].mean()"
   ]
  },
  {
   "cell_type": "markdown",
   "metadata": {},
   "source": [
    "on va remplacer les NAN dans les questions 1 jusqu'à 28 par 3=Don’t Know"
   ]
  },
  {
   "cell_type": "code",
   "execution_count": 68,
   "metadata": {},
   "outputs": [],
   "source": [
    "df = df.fillna(3)"
   ]
  },
  {
   "cell_type": "code",
   "execution_count": 69,
   "metadata": {},
   "outputs": [
    {
     "data": {
      "text/plain": [
       "country        0\n",
       "region         0\n",
       "age            0\n",
       "Q1             0\n",
       "Q2             0\n",
       "Q3             0\n",
       "Q4             0\n",
       "Q5             0\n",
       "Q6             0\n",
       "Q8             0\n",
       "Q9             0\n",
       "Q10a           0\n",
       "Q10b           0\n",
       "Q11            0\n",
       "Q12            0\n",
       "Q13a           0\n",
       "Q14            0\n",
       "Q15            0\n",
       "Q16            0\n",
       "Q17a           0\n",
       "Q17b           0\n",
       "Q19            0\n",
       "Q20            0\n",
       "Q21            0\n",
       "Q22            0\n",
       "Q23            0\n",
       "Q24            0\n",
       "Q25            0\n",
       "Q26            0\n",
       "Q27            0\n",
       "owns_mobile    0\n",
       "Q28            0\n",
       "target         0\n",
       "dtype: int64"
      ]
     },
     "execution_count": 69,
     "metadata": {},
     "output_type": "execute_result"
    }
   ],
   "source": [
    "#les NAN par colonnes\n",
    "df.isnull().sum()"
   ]
  },
  {
   "cell_type": "code",
   "execution_count": 71,
   "metadata": {
    "scrolled": true
   },
   "outputs": [
    {
     "data": {
      "text/html": [
       "<div>\n",
       "<style scoped>\n",
       "    .dataframe tbody tr th:only-of-type {\n",
       "        vertical-align: middle;\n",
       "    }\n",
       "\n",
       "    .dataframe tbody tr th {\n",
       "        vertical-align: top;\n",
       "    }\n",
       "\n",
       "    .dataframe thead th {\n",
       "        text-align: right;\n",
       "    }\n",
       "</style>\n",
       "<table border=\"1\" class=\"dataframe\">\n",
       "  <thead>\n",
       "    <tr style=\"text-align: right;\">\n",
       "      <th></th>\n",
       "      <th>country</th>\n",
       "      <th>region</th>\n",
       "      <th>age</th>\n",
       "      <th>Q1</th>\n",
       "      <th>Q2</th>\n",
       "      <th>Q3</th>\n",
       "      <th>Q4</th>\n",
       "      <th>Q5</th>\n",
       "      <th>Q6</th>\n",
       "      <th>Q8</th>\n",
       "      <th>...</th>\n",
       "      <th>Q21</th>\n",
       "      <th>Q22</th>\n",
       "      <th>Q23</th>\n",
       "      <th>Q24</th>\n",
       "      <th>Q25</th>\n",
       "      <th>Q26</th>\n",
       "      <th>Q27</th>\n",
       "      <th>owns_mobile</th>\n",
       "      <th>Q28</th>\n",
       "      <th>target</th>\n",
       "    </tr>\n",
       "  </thead>\n",
       "  <tbody>\n",
       "    <tr>\n",
       "      <th>0</th>\n",
       "      <td>Morocco</td>\n",
       "      <td>Middle East &amp; North Africa (excluding high inc...</td>\n",
       "      <td>66.0</td>\n",
       "      <td>2</td>\n",
       "      <td>3.0</td>\n",
       "      <td>3.0</td>\n",
       "      <td>3.0</td>\n",
       "      <td>3.0</td>\n",
       "      <td>2</td>\n",
       "      <td>3.0</td>\n",
       "      <td>...</td>\n",
       "      <td>1</td>\n",
       "      <td>2</td>\n",
       "      <td>3.0</td>\n",
       "      <td>1</td>\n",
       "      <td>2</td>\n",
       "      <td>2.0</td>\n",
       "      <td>2.0</td>\n",
       "      <td>1.0</td>\n",
       "      <td>1.0</td>\n",
       "      <td>0</td>\n",
       "    </tr>\n",
       "    <tr>\n",
       "      <th>1</th>\n",
       "      <td>Lebanon</td>\n",
       "      <td>Middle East &amp; North Africa (excluding high inc...</td>\n",
       "      <td>44.0</td>\n",
       "      <td>2</td>\n",
       "      <td>3.0</td>\n",
       "      <td>3.0</td>\n",
       "      <td>2.0</td>\n",
       "      <td>2.0</td>\n",
       "      <td>2</td>\n",
       "      <td>1.0</td>\n",
       "      <td>...</td>\n",
       "      <td>1</td>\n",
       "      <td>2</td>\n",
       "      <td>3.0</td>\n",
       "      <td>2</td>\n",
       "      <td>2</td>\n",
       "      <td>2.0</td>\n",
       "      <td>1.0</td>\n",
       "      <td>1.0</td>\n",
       "      <td>1.0</td>\n",
       "      <td>1</td>\n",
       "    </tr>\n",
       "    <tr>\n",
       "      <th>2</th>\n",
       "      <td>Morocco</td>\n",
       "      <td>Middle East &amp; North Africa (excluding high inc...</td>\n",
       "      <td>29.0</td>\n",
       "      <td>1</td>\n",
       "      <td>1.0</td>\n",
       "      <td>1.0</td>\n",
       "      <td>2.0</td>\n",
       "      <td>2.0</td>\n",
       "      <td>2</td>\n",
       "      <td>1.0</td>\n",
       "      <td>...</td>\n",
       "      <td>1</td>\n",
       "      <td>1</td>\n",
       "      <td>2.0</td>\n",
       "      <td>2</td>\n",
       "      <td>2</td>\n",
       "      <td>2.0</td>\n",
       "      <td>3.0</td>\n",
       "      <td>1.0</td>\n",
       "      <td>1.0</td>\n",
       "      <td>0</td>\n",
       "    </tr>\n",
       "    <tr>\n",
       "      <th>3</th>\n",
       "      <td>Canada</td>\n",
       "      <td>High income: OECD</td>\n",
       "      <td>44.0</td>\n",
       "      <td>1</td>\n",
       "      <td>1.0</td>\n",
       "      <td>1.0</td>\n",
       "      <td>1.0</td>\n",
       "      <td>1.0</td>\n",
       "      <td>2</td>\n",
       "      <td>1.0</td>\n",
       "      <td>...</td>\n",
       "      <td>1</td>\n",
       "      <td>1</td>\n",
       "      <td>2.0</td>\n",
       "      <td>1</td>\n",
       "      <td>2</td>\n",
       "      <td>3.0</td>\n",
       "      <td>3.0</td>\n",
       "      <td>1.0</td>\n",
       "      <td>3.0</td>\n",
       "      <td>1</td>\n",
       "    </tr>\n",
       "    <tr>\n",
       "      <th>4</th>\n",
       "      <td>Mexico</td>\n",
       "      <td>Latin America &amp; Caribbean (excluding high income)</td>\n",
       "      <td>36.0</td>\n",
       "      <td>2</td>\n",
       "      <td>3.0</td>\n",
       "      <td>3.0</td>\n",
       "      <td>3.0</td>\n",
       "      <td>3.0</td>\n",
       "      <td>2</td>\n",
       "      <td>3.0</td>\n",
       "      <td>...</td>\n",
       "      <td>1</td>\n",
       "      <td>2</td>\n",
       "      <td>3.0</td>\n",
       "      <td>1</td>\n",
       "      <td>2</td>\n",
       "      <td>2.0</td>\n",
       "      <td>2.0</td>\n",
       "      <td>1.0</td>\n",
       "      <td>1.0</td>\n",
       "      <td>1</td>\n",
       "    </tr>\n",
       "  </tbody>\n",
       "</table>\n",
       "<p>5 rows × 33 columns</p>\n",
       "</div>"
      ],
      "text/plain": [
       "   country                                             region   age  Q1   Q2  \\\n",
       "0  Morocco  Middle East & North Africa (excluding high inc...  66.0   2  3.0   \n",
       "1  Lebanon  Middle East & North Africa (excluding high inc...  44.0   2  3.0   \n",
       "2  Morocco  Middle East & North Africa (excluding high inc...  29.0   1  1.0   \n",
       "3   Canada                                  High income: OECD  44.0   1  1.0   \n",
       "4   Mexico  Latin America & Caribbean (excluding high income)  36.0   2  3.0   \n",
       "\n",
       "    Q3   Q4   Q5  Q6   Q8  ...  Q21  Q22  Q23  Q24  Q25  Q26  Q27  \\\n",
       "0  3.0  3.0  3.0   2  3.0  ...    1    2  3.0    1    2  2.0  2.0   \n",
       "1  3.0  2.0  2.0   2  1.0  ...    1    2  3.0    2    2  2.0  1.0   \n",
       "2  1.0  2.0  2.0   2  1.0  ...    1    1  2.0    2    2  2.0  3.0   \n",
       "3  1.0  1.0  1.0   2  1.0  ...    1    1  2.0    1    2  3.0  3.0   \n",
       "4  3.0  3.0  3.0   2  3.0  ...    1    2  3.0    1    2  2.0  2.0   \n",
       "\n",
       "   owns_mobile  Q28  target  \n",
       "0          1.0  1.0       0  \n",
       "1          1.0  1.0       1  \n",
       "2          1.0  1.0       0  \n",
       "3          1.0  3.0       1  \n",
       "4          1.0  1.0       1  \n",
       "\n",
       "[5 rows x 33 columns]"
      ]
     },
     "execution_count": 71,
     "metadata": {},
     "output_type": "execute_result"
    }
   ],
   "source": [
    "df.head()"
   ]
  },
  {
   "cell_type": "markdown",
   "metadata": {},
   "source": [
    "# convertir les colonnes catégorielles en colonnes numériques"
   ]
  },
  {
   "cell_type": "code",
   "execution_count": 73,
   "metadata": {},
   "outputs": [
    {
     "data": {
      "text/html": [
       "<div>\n",
       "<style scoped>\n",
       "    .dataframe tbody tr th:only-of-type {\n",
       "        vertical-align: middle;\n",
       "    }\n",
       "\n",
       "    .dataframe tbody tr th {\n",
       "        vertical-align: top;\n",
       "    }\n",
       "\n",
       "    .dataframe thead th {\n",
       "        text-align: right;\n",
       "    }\n",
       "</style>\n",
       "<table border=\"1\" class=\"dataframe\">\n",
       "  <thead>\n",
       "    <tr style=\"text-align: right;\">\n",
       "      <th></th>\n",
       "      <th>region</th>\n",
       "      <th>country</th>\n",
       "    </tr>\n",
       "  </thead>\n",
       "  <tbody>\n",
       "    <tr>\n",
       "      <th>0</th>\n",
       "      <td>Middle East &amp; North Africa (excluding high inc...</td>\n",
       "      <td>Morocco</td>\n",
       "    </tr>\n",
       "    <tr>\n",
       "      <th>1</th>\n",
       "      <td>Middle East &amp; North Africa (excluding high inc...</td>\n",
       "      <td>Lebanon</td>\n",
       "    </tr>\n",
       "    <tr>\n",
       "      <th>2</th>\n",
       "      <td>Middle East &amp; North Africa (excluding high inc...</td>\n",
       "      <td>Morocco</td>\n",
       "    </tr>\n",
       "    <tr>\n",
       "      <th>3</th>\n",
       "      <td>High income: OECD</td>\n",
       "      <td>Canada</td>\n",
       "    </tr>\n",
       "    <tr>\n",
       "      <th>4</th>\n",
       "      <td>Latin America &amp; Caribbean (excluding high income)</td>\n",
       "      <td>Mexico</td>\n",
       "    </tr>\n",
       "    <tr>\n",
       "      <th>...</th>\n",
       "      <td>...</td>\n",
       "      <td>...</td>\n",
       "    </tr>\n",
       "    <tr>\n",
       "      <th>104862</th>\n",
       "      <td>South Asia</td>\n",
       "      <td>India</td>\n",
       "    </tr>\n",
       "    <tr>\n",
       "      <th>104863</th>\n",
       "      <td>High income: nonOECD</td>\n",
       "      <td>Hong Kong SAR, China</td>\n",
       "    </tr>\n",
       "    <tr>\n",
       "      <th>104864</th>\n",
       "      <td>Sub-Saharan Africa (excluding high income)</td>\n",
       "      <td>Mauritius</td>\n",
       "    </tr>\n",
       "    <tr>\n",
       "      <th>104865</th>\n",
       "      <td>High income: OECD</td>\n",
       "      <td>Germany</td>\n",
       "    </tr>\n",
       "    <tr>\n",
       "      <th>104866</th>\n",
       "      <td>East Asia &amp; Pacific (excluding high income)</td>\n",
       "      <td>Vietnam</td>\n",
       "    </tr>\n",
       "  </tbody>\n",
       "</table>\n",
       "<p>104867 rows × 2 columns</p>\n",
       "</div>"
      ],
      "text/plain": [
       "                                                   region  \\\n",
       "0       Middle East & North Africa (excluding high inc...   \n",
       "1       Middle East & North Africa (excluding high inc...   \n",
       "2       Middle East & North Africa (excluding high inc...   \n",
       "3                                       High income: OECD   \n",
       "4       Latin America & Caribbean (excluding high income)   \n",
       "...                                                   ...   \n",
       "104862                                         South Asia   \n",
       "104863                               High income: nonOECD   \n",
       "104864         Sub-Saharan Africa (excluding high income)   \n",
       "104865                                  High income: OECD   \n",
       "104866        East Asia & Pacific (excluding high income)   \n",
       "\n",
       "                     country  \n",
       "0                    Morocco  \n",
       "1                    Lebanon  \n",
       "2                    Morocco  \n",
       "3                     Canada  \n",
       "4                     Mexico  \n",
       "...                      ...  \n",
       "104862                 India  \n",
       "104863  Hong Kong SAR, China  \n",
       "104864             Mauritius  \n",
       "104865               Germany  \n",
       "104866               Vietnam  \n",
       "\n",
       "[104867 rows x 2 columns]"
      ]
     },
     "execution_count": 73,
     "metadata": {},
     "output_type": "execute_result"
    }
   ],
   "source": [
    "from sklearn.preprocessing import OneHotEncoder\n",
    "\n",
    "CATEGORICAL_FEATURES = ['region','country']\n",
    "cat_df = df[CATEGORICAL_FEATURES].copy()\n",
    "cat_df"
   ]
  },
  {
   "cell_type": "code",
   "execution_count": 74,
   "metadata": {},
   "outputs": [],
   "source": [
    "#Encodage on utilisant onehotencoder\n",
    "from sklearn.preprocessing import OneHotEncoder\n",
    "\n",
    "CATEGORICAL_FEATURES = ['country', 'region']\n",
    "cat_df = df[CATEGORICAL_FEATURES].copy()\n",
    "cat_df\n",
    "\n",
    "one_hot_encoder = OneHotEncoder(drop='first')\n",
    "cat_features = one_hot_encoder.fit_transform(cat_df).todense()\n",
    "df_1 = pd.DataFrame(cat_features, columns=one_hot_encoder.get_feature_names())"
   ]
  },
  {
   "cell_type": "code",
   "execution_count": 76,
   "metadata": {},
   "outputs": [
    {
     "data": {
      "text/html": [
       "<div>\n",
       "<style scoped>\n",
       "    .dataframe tbody tr th:only-of-type {\n",
       "        vertical-align: middle;\n",
       "    }\n",
       "\n",
       "    .dataframe tbody tr th {\n",
       "        vertical-align: top;\n",
       "    }\n",
       "\n",
       "    .dataframe thead th {\n",
       "        text-align: right;\n",
       "    }\n",
       "</style>\n",
       "<table border=\"1\" class=\"dataframe\">\n",
       "  <thead>\n",
       "    <tr style=\"text-align: right;\">\n",
       "      <th></th>\n",
       "      <th>x0_Albania</th>\n",
       "      <th>x0_Algeria</th>\n",
       "      <th>x0_Argentina</th>\n",
       "      <th>x0_Armenia</th>\n",
       "      <th>x0_Australia</th>\n",
       "      <th>x0_Austria</th>\n",
       "      <th>x0_Azerbaijan</th>\n",
       "      <th>x0_Bahrain</th>\n",
       "      <th>x0_Bangladesh</th>\n",
       "      <th>x0_Belarus</th>\n",
       "      <th>...</th>\n",
       "      <th>x0_Zambia</th>\n",
       "      <th>x0_Zimbabwe</th>\n",
       "      <th>x1_Europe &amp; Central Asia (excluding high income)</th>\n",
       "      <th>x1_High income: OECD</th>\n",
       "      <th>x1_High income: nonOECD</th>\n",
       "      <th>x1_Latin America &amp; Caribbean (excluding high income)</th>\n",
       "      <th>x1_Middle East &amp; North Africa (excluding high income)</th>\n",
       "      <th>x1_South Asia</th>\n",
       "      <th>x1_Sub-Saharan Africa (excluding high income)</th>\n",
       "      <th>x1_inkonnu</th>\n",
       "    </tr>\n",
       "  </thead>\n",
       "  <tbody>\n",
       "    <tr>\n",
       "      <th>0</th>\n",
       "      <td>0.0</td>\n",
       "      <td>0.0</td>\n",
       "      <td>0.0</td>\n",
       "      <td>0.0</td>\n",
       "      <td>0.0</td>\n",
       "      <td>0.0</td>\n",
       "      <td>0.0</td>\n",
       "      <td>0.0</td>\n",
       "      <td>0.0</td>\n",
       "      <td>0.0</td>\n",
       "      <td>...</td>\n",
       "      <td>0.0</td>\n",
       "      <td>0.0</td>\n",
       "      <td>0.0</td>\n",
       "      <td>0.0</td>\n",
       "      <td>0.0</td>\n",
       "      <td>0.0</td>\n",
       "      <td>1.0</td>\n",
       "      <td>0.0</td>\n",
       "      <td>0.0</td>\n",
       "      <td>0.0</td>\n",
       "    </tr>\n",
       "    <tr>\n",
       "      <th>1</th>\n",
       "      <td>0.0</td>\n",
       "      <td>0.0</td>\n",
       "      <td>0.0</td>\n",
       "      <td>0.0</td>\n",
       "      <td>0.0</td>\n",
       "      <td>0.0</td>\n",
       "      <td>0.0</td>\n",
       "      <td>0.0</td>\n",
       "      <td>0.0</td>\n",
       "      <td>0.0</td>\n",
       "      <td>...</td>\n",
       "      <td>0.0</td>\n",
       "      <td>0.0</td>\n",
       "      <td>0.0</td>\n",
       "      <td>0.0</td>\n",
       "      <td>0.0</td>\n",
       "      <td>0.0</td>\n",
       "      <td>1.0</td>\n",
       "      <td>0.0</td>\n",
       "      <td>0.0</td>\n",
       "      <td>0.0</td>\n",
       "    </tr>\n",
       "    <tr>\n",
       "      <th>2</th>\n",
       "      <td>0.0</td>\n",
       "      <td>0.0</td>\n",
       "      <td>0.0</td>\n",
       "      <td>0.0</td>\n",
       "      <td>0.0</td>\n",
       "      <td>0.0</td>\n",
       "      <td>0.0</td>\n",
       "      <td>0.0</td>\n",
       "      <td>0.0</td>\n",
       "      <td>0.0</td>\n",
       "      <td>...</td>\n",
       "      <td>0.0</td>\n",
       "      <td>0.0</td>\n",
       "      <td>0.0</td>\n",
       "      <td>0.0</td>\n",
       "      <td>0.0</td>\n",
       "      <td>0.0</td>\n",
       "      <td>1.0</td>\n",
       "      <td>0.0</td>\n",
       "      <td>0.0</td>\n",
       "      <td>0.0</td>\n",
       "    </tr>\n",
       "    <tr>\n",
       "      <th>3</th>\n",
       "      <td>0.0</td>\n",
       "      <td>0.0</td>\n",
       "      <td>0.0</td>\n",
       "      <td>0.0</td>\n",
       "      <td>0.0</td>\n",
       "      <td>0.0</td>\n",
       "      <td>0.0</td>\n",
       "      <td>0.0</td>\n",
       "      <td>0.0</td>\n",
       "      <td>0.0</td>\n",
       "      <td>...</td>\n",
       "      <td>0.0</td>\n",
       "      <td>0.0</td>\n",
       "      <td>0.0</td>\n",
       "      <td>1.0</td>\n",
       "      <td>0.0</td>\n",
       "      <td>0.0</td>\n",
       "      <td>0.0</td>\n",
       "      <td>0.0</td>\n",
       "      <td>0.0</td>\n",
       "      <td>0.0</td>\n",
       "    </tr>\n",
       "    <tr>\n",
       "      <th>4</th>\n",
       "      <td>0.0</td>\n",
       "      <td>0.0</td>\n",
       "      <td>0.0</td>\n",
       "      <td>0.0</td>\n",
       "      <td>0.0</td>\n",
       "      <td>0.0</td>\n",
       "      <td>0.0</td>\n",
       "      <td>0.0</td>\n",
       "      <td>0.0</td>\n",
       "      <td>0.0</td>\n",
       "      <td>...</td>\n",
       "      <td>0.0</td>\n",
       "      <td>0.0</td>\n",
       "      <td>0.0</td>\n",
       "      <td>0.0</td>\n",
       "      <td>0.0</td>\n",
       "      <td>1.0</td>\n",
       "      <td>0.0</td>\n",
       "      <td>0.0</td>\n",
       "      <td>0.0</td>\n",
       "      <td>0.0</td>\n",
       "    </tr>\n",
       "    <tr>\n",
       "      <th>5</th>\n",
       "      <td>0.0</td>\n",
       "      <td>0.0</td>\n",
       "      <td>0.0</td>\n",
       "      <td>0.0</td>\n",
       "      <td>0.0</td>\n",
       "      <td>0.0</td>\n",
       "      <td>0.0</td>\n",
       "      <td>1.0</td>\n",
       "      <td>0.0</td>\n",
       "      <td>0.0</td>\n",
       "      <td>...</td>\n",
       "      <td>0.0</td>\n",
       "      <td>0.0</td>\n",
       "      <td>0.0</td>\n",
       "      <td>0.0</td>\n",
       "      <td>1.0</td>\n",
       "      <td>0.0</td>\n",
       "      <td>0.0</td>\n",
       "      <td>0.0</td>\n",
       "      <td>0.0</td>\n",
       "      <td>0.0</td>\n",
       "    </tr>\n",
       "    <tr>\n",
       "      <th>6</th>\n",
       "      <td>0.0</td>\n",
       "      <td>0.0</td>\n",
       "      <td>0.0</td>\n",
       "      <td>0.0</td>\n",
       "      <td>0.0</td>\n",
       "      <td>0.0</td>\n",
       "      <td>0.0</td>\n",
       "      <td>0.0</td>\n",
       "      <td>0.0</td>\n",
       "      <td>0.0</td>\n",
       "      <td>...</td>\n",
       "      <td>0.0</td>\n",
       "      <td>0.0</td>\n",
       "      <td>0.0</td>\n",
       "      <td>0.0</td>\n",
       "      <td>1.0</td>\n",
       "      <td>0.0</td>\n",
       "      <td>0.0</td>\n",
       "      <td>0.0</td>\n",
       "      <td>0.0</td>\n",
       "      <td>0.0</td>\n",
       "    </tr>\n",
       "    <tr>\n",
       "      <th>7</th>\n",
       "      <td>0.0</td>\n",
       "      <td>0.0</td>\n",
       "      <td>0.0</td>\n",
       "      <td>0.0</td>\n",
       "      <td>0.0</td>\n",
       "      <td>0.0</td>\n",
       "      <td>0.0</td>\n",
       "      <td>0.0</td>\n",
       "      <td>0.0</td>\n",
       "      <td>0.0</td>\n",
       "      <td>...</td>\n",
       "      <td>0.0</td>\n",
       "      <td>0.0</td>\n",
       "      <td>0.0</td>\n",
       "      <td>1.0</td>\n",
       "      <td>0.0</td>\n",
       "      <td>0.0</td>\n",
       "      <td>0.0</td>\n",
       "      <td>0.0</td>\n",
       "      <td>0.0</td>\n",
       "      <td>0.0</td>\n",
       "    </tr>\n",
       "    <tr>\n",
       "      <th>8</th>\n",
       "      <td>0.0</td>\n",
       "      <td>0.0</td>\n",
       "      <td>0.0</td>\n",
       "      <td>0.0</td>\n",
       "      <td>0.0</td>\n",
       "      <td>0.0</td>\n",
       "      <td>0.0</td>\n",
       "      <td>0.0</td>\n",
       "      <td>0.0</td>\n",
       "      <td>0.0</td>\n",
       "      <td>...</td>\n",
       "      <td>0.0</td>\n",
       "      <td>0.0</td>\n",
       "      <td>0.0</td>\n",
       "      <td>1.0</td>\n",
       "      <td>0.0</td>\n",
       "      <td>0.0</td>\n",
       "      <td>0.0</td>\n",
       "      <td>0.0</td>\n",
       "      <td>0.0</td>\n",
       "      <td>0.0</td>\n",
       "    </tr>\n",
       "    <tr>\n",
       "      <th>9</th>\n",
       "      <td>0.0</td>\n",
       "      <td>0.0</td>\n",
       "      <td>0.0</td>\n",
       "      <td>0.0</td>\n",
       "      <td>0.0</td>\n",
       "      <td>0.0</td>\n",
       "      <td>0.0</td>\n",
       "      <td>0.0</td>\n",
       "      <td>0.0</td>\n",
       "      <td>0.0</td>\n",
       "      <td>...</td>\n",
       "      <td>0.0</td>\n",
       "      <td>0.0</td>\n",
       "      <td>1.0</td>\n",
       "      <td>0.0</td>\n",
       "      <td>0.0</td>\n",
       "      <td>0.0</td>\n",
       "      <td>0.0</td>\n",
       "      <td>0.0</td>\n",
       "      <td>0.0</td>\n",
       "      <td>0.0</td>\n",
       "    </tr>\n",
       "  </tbody>\n",
       "</table>\n",
       "<p>10 rows × 151 columns</p>\n",
       "</div>"
      ],
      "text/plain": [
       "   x0_Albania  x0_Algeria  x0_Argentina  x0_Armenia  x0_Australia  x0_Austria  \\\n",
       "0         0.0         0.0           0.0         0.0           0.0         0.0   \n",
       "1         0.0         0.0           0.0         0.0           0.0         0.0   \n",
       "2         0.0         0.0           0.0         0.0           0.0         0.0   \n",
       "3         0.0         0.0           0.0         0.0           0.0         0.0   \n",
       "4         0.0         0.0           0.0         0.0           0.0         0.0   \n",
       "5         0.0         0.0           0.0         0.0           0.0         0.0   \n",
       "6         0.0         0.0           0.0         0.0           0.0         0.0   \n",
       "7         0.0         0.0           0.0         0.0           0.0         0.0   \n",
       "8         0.0         0.0           0.0         0.0           0.0         0.0   \n",
       "9         0.0         0.0           0.0         0.0           0.0         0.0   \n",
       "\n",
       "   x0_Azerbaijan  x0_Bahrain  x0_Bangladesh  x0_Belarus  ...  x0_Zambia  \\\n",
       "0            0.0         0.0            0.0         0.0  ...        0.0   \n",
       "1            0.0         0.0            0.0         0.0  ...        0.0   \n",
       "2            0.0         0.0            0.0         0.0  ...        0.0   \n",
       "3            0.0         0.0            0.0         0.0  ...        0.0   \n",
       "4            0.0         0.0            0.0         0.0  ...        0.0   \n",
       "5            0.0         1.0            0.0         0.0  ...        0.0   \n",
       "6            0.0         0.0            0.0         0.0  ...        0.0   \n",
       "7            0.0         0.0            0.0         0.0  ...        0.0   \n",
       "8            0.0         0.0            0.0         0.0  ...        0.0   \n",
       "9            0.0         0.0            0.0         0.0  ...        0.0   \n",
       "\n",
       "   x0_Zimbabwe  x1_Europe & Central Asia (excluding high income)  \\\n",
       "0          0.0                                               0.0   \n",
       "1          0.0                                               0.0   \n",
       "2          0.0                                               0.0   \n",
       "3          0.0                                               0.0   \n",
       "4          0.0                                               0.0   \n",
       "5          0.0                                               0.0   \n",
       "6          0.0                                               0.0   \n",
       "7          0.0                                               0.0   \n",
       "8          0.0                                               0.0   \n",
       "9          0.0                                               1.0   \n",
       "\n",
       "   x1_High income: OECD  x1_High income: nonOECD  \\\n",
       "0                   0.0                      0.0   \n",
       "1                   0.0                      0.0   \n",
       "2                   0.0                      0.0   \n",
       "3                   1.0                      0.0   \n",
       "4                   0.0                      0.0   \n",
       "5                   0.0                      1.0   \n",
       "6                   0.0                      1.0   \n",
       "7                   1.0                      0.0   \n",
       "8                   1.0                      0.0   \n",
       "9                   0.0                      0.0   \n",
       "\n",
       "   x1_Latin America & Caribbean (excluding high income)  \\\n",
       "0                                                0.0      \n",
       "1                                                0.0      \n",
       "2                                                0.0      \n",
       "3                                                0.0      \n",
       "4                                                1.0      \n",
       "5                                                0.0      \n",
       "6                                                0.0      \n",
       "7                                                0.0      \n",
       "8                                                0.0      \n",
       "9                                                0.0      \n",
       "\n",
       "   x1_Middle East & North Africa (excluding high income)  x1_South Asia  \\\n",
       "0                                                1.0                0.0   \n",
       "1                                                1.0                0.0   \n",
       "2                                                1.0                0.0   \n",
       "3                                                0.0                0.0   \n",
       "4                                                0.0                0.0   \n",
       "5                                                0.0                0.0   \n",
       "6                                                0.0                0.0   \n",
       "7                                                0.0                0.0   \n",
       "8                                                0.0                0.0   \n",
       "9                                                0.0                0.0   \n",
       "\n",
       "   x1_Sub-Saharan Africa (excluding high income)  x1_inkonnu  \n",
       "0                                            0.0         0.0  \n",
       "1                                            0.0         0.0  \n",
       "2                                            0.0         0.0  \n",
       "3                                            0.0         0.0  \n",
       "4                                            0.0         0.0  \n",
       "5                                            0.0         0.0  \n",
       "6                                            0.0         0.0  \n",
       "7                                            0.0         0.0  \n",
       "8                                            0.0         0.0  \n",
       "9                                            0.0         0.0  \n",
       "\n",
       "[10 rows x 151 columns]"
      ]
     },
     "execution_count": 76,
     "metadata": {},
     "output_type": "execute_result"
    }
   ],
   "source": [
    "df_1.head(10)"
   ]
  },
  {
   "cell_type": "code",
   "execution_count": 78,
   "metadata": {},
   "outputs": [],
   "source": [
    "df_2 = df.drop(['country','region'],axis=1)"
   ]
  },
  {
   "cell_type": "code",
   "execution_count": 83,
   "metadata": {},
   "outputs": [],
   "source": [
    "df = pd.concat([df_2,df_1],axis = 1)\n"
   ]
  },
  {
   "cell_type": "code",
   "execution_count": 84,
   "metadata": {},
   "outputs": [
    {
     "data": {
      "text/html": [
       "<div>\n",
       "<style scoped>\n",
       "    .dataframe tbody tr th:only-of-type {\n",
       "        vertical-align: middle;\n",
       "    }\n",
       "\n",
       "    .dataframe tbody tr th {\n",
       "        vertical-align: top;\n",
       "    }\n",
       "\n",
       "    .dataframe thead th {\n",
       "        text-align: right;\n",
       "    }\n",
       "</style>\n",
       "<table border=\"1\" class=\"dataframe\">\n",
       "  <thead>\n",
       "    <tr style=\"text-align: right;\">\n",
       "      <th></th>\n",
       "      <th>age</th>\n",
       "      <th>Q1</th>\n",
       "      <th>Q2</th>\n",
       "      <th>Q3</th>\n",
       "      <th>Q4</th>\n",
       "      <th>Q5</th>\n",
       "      <th>Q6</th>\n",
       "      <th>Q8</th>\n",
       "      <th>Q9</th>\n",
       "      <th>Q10a</th>\n",
       "      <th>...</th>\n",
       "      <th>x0_Zambia</th>\n",
       "      <th>x0_Zimbabwe</th>\n",
       "      <th>x1_Europe &amp; Central Asia (excluding high income)</th>\n",
       "      <th>x1_High income: OECD</th>\n",
       "      <th>x1_High income: nonOECD</th>\n",
       "      <th>x1_Latin America &amp; Caribbean (excluding high income)</th>\n",
       "      <th>x1_Middle East &amp; North Africa (excluding high income)</th>\n",
       "      <th>x1_South Asia</th>\n",
       "      <th>x1_Sub-Saharan Africa (excluding high income)</th>\n",
       "      <th>x1_inkonnu</th>\n",
       "    </tr>\n",
       "  </thead>\n",
       "  <tbody>\n",
       "    <tr>\n",
       "      <th>82688</th>\n",
       "      <td>30.0</td>\n",
       "      <td>1</td>\n",
       "      <td>1.0</td>\n",
       "      <td>1.0</td>\n",
       "      <td>1.0</td>\n",
       "      <td>1.0</td>\n",
       "      <td>1</td>\n",
       "      <td>1.0</td>\n",
       "      <td>1.0</td>\n",
       "      <td>1</td>\n",
       "      <td>...</td>\n",
       "      <td>0.0</td>\n",
       "      <td>0.0</td>\n",
       "      <td>0.0</td>\n",
       "      <td>0.0</td>\n",
       "      <td>1.0</td>\n",
       "      <td>0.0</td>\n",
       "      <td>0.0</td>\n",
       "      <td>0.0</td>\n",
       "      <td>0.0</td>\n",
       "      <td>0.0</td>\n",
       "    </tr>\n",
       "    <tr>\n",
       "      <th>70524</th>\n",
       "      <td>68.0</td>\n",
       "      <td>1</td>\n",
       "      <td>1.0</td>\n",
       "      <td>2.0</td>\n",
       "      <td>2.0</td>\n",
       "      <td>2.0</td>\n",
       "      <td>2</td>\n",
       "      <td>1.0</td>\n",
       "      <td>1.0</td>\n",
       "      <td>2</td>\n",
       "      <td>...</td>\n",
       "      <td>0.0</td>\n",
       "      <td>0.0</td>\n",
       "      <td>0.0</td>\n",
       "      <td>1.0</td>\n",
       "      <td>0.0</td>\n",
       "      <td>0.0</td>\n",
       "      <td>0.0</td>\n",
       "      <td>0.0</td>\n",
       "      <td>0.0</td>\n",
       "      <td>0.0</td>\n",
       "    </tr>\n",
       "    <tr>\n",
       "      <th>8246</th>\n",
       "      <td>20.0</td>\n",
       "      <td>2</td>\n",
       "      <td>3.0</td>\n",
       "      <td>3.0</td>\n",
       "      <td>3.0</td>\n",
       "      <td>3.0</td>\n",
       "      <td>2</td>\n",
       "      <td>3.0</td>\n",
       "      <td>3.0</td>\n",
       "      <td>2</td>\n",
       "      <td>...</td>\n",
       "      <td>0.0</td>\n",
       "      <td>0.0</td>\n",
       "      <td>0.0</td>\n",
       "      <td>0.0</td>\n",
       "      <td>0.0</td>\n",
       "      <td>0.0</td>\n",
       "      <td>1.0</td>\n",
       "      <td>0.0</td>\n",
       "      <td>0.0</td>\n",
       "      <td>0.0</td>\n",
       "    </tr>\n",
       "    <tr>\n",
       "      <th>73204</th>\n",
       "      <td>62.0</td>\n",
       "      <td>1</td>\n",
       "      <td>1.0</td>\n",
       "      <td>2.0</td>\n",
       "      <td>2.0</td>\n",
       "      <td>2.0</td>\n",
       "      <td>2</td>\n",
       "      <td>1.0</td>\n",
       "      <td>1.0</td>\n",
       "      <td>1</td>\n",
       "      <td>...</td>\n",
       "      <td>0.0</td>\n",
       "      <td>0.0</td>\n",
       "      <td>1.0</td>\n",
       "      <td>0.0</td>\n",
       "      <td>0.0</td>\n",
       "      <td>0.0</td>\n",
       "      <td>0.0</td>\n",
       "      <td>0.0</td>\n",
       "      <td>0.0</td>\n",
       "      <td>0.0</td>\n",
       "    </tr>\n",
       "    <tr>\n",
       "      <th>58570</th>\n",
       "      <td>38.0</td>\n",
       "      <td>2</td>\n",
       "      <td>3.0</td>\n",
       "      <td>3.0</td>\n",
       "      <td>3.0</td>\n",
       "      <td>3.0</td>\n",
       "      <td>2</td>\n",
       "      <td>3.0</td>\n",
       "      <td>3.0</td>\n",
       "      <td>2</td>\n",
       "      <td>...</td>\n",
       "      <td>0.0</td>\n",
       "      <td>0.0</td>\n",
       "      <td>1.0</td>\n",
       "      <td>0.0</td>\n",
       "      <td>0.0</td>\n",
       "      <td>0.0</td>\n",
       "      <td>0.0</td>\n",
       "      <td>0.0</td>\n",
       "      <td>0.0</td>\n",
       "      <td>0.0</td>\n",
       "    </tr>\n",
       "    <tr>\n",
       "      <th>99345</th>\n",
       "      <td>67.0</td>\n",
       "      <td>1</td>\n",
       "      <td>1.0</td>\n",
       "      <td>1.0</td>\n",
       "      <td>2.0</td>\n",
       "      <td>2.0</td>\n",
       "      <td>1</td>\n",
       "      <td>1.0</td>\n",
       "      <td>1.0</td>\n",
       "      <td>2</td>\n",
       "      <td>...</td>\n",
       "      <td>0.0</td>\n",
       "      <td>0.0</td>\n",
       "      <td>1.0</td>\n",
       "      <td>0.0</td>\n",
       "      <td>0.0</td>\n",
       "      <td>0.0</td>\n",
       "      <td>0.0</td>\n",
       "      <td>0.0</td>\n",
       "      <td>0.0</td>\n",
       "      <td>0.0</td>\n",
       "    </tr>\n",
       "    <tr>\n",
       "      <th>24406</th>\n",
       "      <td>30.0</td>\n",
       "      <td>2</td>\n",
       "      <td>3.0</td>\n",
       "      <td>3.0</td>\n",
       "      <td>2.0</td>\n",
       "      <td>2.0</td>\n",
       "      <td>2</td>\n",
       "      <td>2.0</td>\n",
       "      <td>2.0</td>\n",
       "      <td>2</td>\n",
       "      <td>...</td>\n",
       "      <td>0.0</td>\n",
       "      <td>0.0</td>\n",
       "      <td>0.0</td>\n",
       "      <td>0.0</td>\n",
       "      <td>0.0</td>\n",
       "      <td>0.0</td>\n",
       "      <td>0.0</td>\n",
       "      <td>0.0</td>\n",
       "      <td>0.0</td>\n",
       "      <td>0.0</td>\n",
       "    </tr>\n",
       "  </tbody>\n",
       "</table>\n",
       "<p>7 rows × 182 columns</p>\n",
       "</div>"
      ],
      "text/plain": [
       "        age  Q1   Q2   Q3   Q4   Q5  Q6   Q8   Q9  Q10a  ...  x0_Zambia  \\\n",
       "82688  30.0   1  1.0  1.0  1.0  1.0   1  1.0  1.0     1  ...        0.0   \n",
       "70524  68.0   1  1.0  2.0  2.0  2.0   2  1.0  1.0     2  ...        0.0   \n",
       "8246   20.0   2  3.0  3.0  3.0  3.0   2  3.0  3.0     2  ...        0.0   \n",
       "73204  62.0   1  1.0  2.0  2.0  2.0   2  1.0  1.0     1  ...        0.0   \n",
       "58570  38.0   2  3.0  3.0  3.0  3.0   2  3.0  3.0     2  ...        0.0   \n",
       "99345  67.0   1  1.0  1.0  2.0  2.0   1  1.0  1.0     2  ...        0.0   \n",
       "24406  30.0   2  3.0  3.0  2.0  2.0   2  2.0  2.0     2  ...        0.0   \n",
       "\n",
       "       x0_Zimbabwe  x1_Europe & Central Asia (excluding high income)  \\\n",
       "82688          0.0                                               0.0   \n",
       "70524          0.0                                               0.0   \n",
       "8246           0.0                                               0.0   \n",
       "73204          0.0                                               1.0   \n",
       "58570          0.0                                               1.0   \n",
       "99345          0.0                                               1.0   \n",
       "24406          0.0                                               0.0   \n",
       "\n",
       "       x1_High income: OECD  x1_High income: nonOECD  \\\n",
       "82688                   0.0                      1.0   \n",
       "70524                   1.0                      0.0   \n",
       "8246                    0.0                      0.0   \n",
       "73204                   0.0                      0.0   \n",
       "58570                   0.0                      0.0   \n",
       "99345                   0.0                      0.0   \n",
       "24406                   0.0                      0.0   \n",
       "\n",
       "       x1_Latin America & Caribbean (excluding high income)  \\\n",
       "82688                                                0.0      \n",
       "70524                                                0.0      \n",
       "8246                                                 0.0      \n",
       "73204                                                0.0      \n",
       "58570                                                0.0      \n",
       "99345                                                0.0      \n",
       "24406                                                0.0      \n",
       "\n",
       "       x1_Middle East & North Africa (excluding high income)  x1_South Asia  \\\n",
       "82688                                                0.0                0.0   \n",
       "70524                                                0.0                0.0   \n",
       "8246                                                 1.0                0.0   \n",
       "73204                                                0.0                0.0   \n",
       "58570                                                0.0                0.0   \n",
       "99345                                                0.0                0.0   \n",
       "24406                                                0.0                0.0   \n",
       "\n",
       "       x1_Sub-Saharan Africa (excluding high income)  x1_inkonnu  \n",
       "82688                                            0.0         0.0  \n",
       "70524                                            0.0         0.0  \n",
       "8246                                             0.0         0.0  \n",
       "73204                                            0.0         0.0  \n",
       "58570                                            0.0         0.0  \n",
       "99345                                            0.0         0.0  \n",
       "24406                                            0.0         0.0  \n",
       "\n",
       "[7 rows x 182 columns]"
      ]
     },
     "execution_count": 84,
     "metadata": {},
     "output_type": "execute_result"
    }
   ],
   "source": [
    "df.sample(7)"
   ]
  },
  {
   "cell_type": "markdown",
   "metadata": {},
   "source": [
    "# Creation du modele "
   ]
  },
  {
   "cell_type": "code",
   "execution_count": 85,
   "metadata": {},
   "outputs": [],
   "source": [
    "from sklearn.model_selection import train_test_split\n",
    "from sklearn.preprocessing import StandardScaler"
   ]
  },
  {
   "cell_type": "code",
   "execution_count": 112,
   "metadata": {},
   "outputs": [],
   "source": [
    "df_train, df_test = train_test_split(df, test_size=0.25, random_state=0)"
   ]
  },
  {
   "cell_type": "code",
   "execution_count": 113,
   "metadata": {},
   "outputs": [
    {
     "data": {
      "text/plain": [
       "(26217, 182)"
      ]
     },
     "execution_count": 113,
     "metadata": {},
     "output_type": "execute_result"
    }
   ],
   "source": [
    "df_test.shape"
   ]
  },
  {
   "cell_type": "code",
   "execution_count": 114,
   "metadata": {},
   "outputs": [
    {
     "data": {
      "text/plain": [
       "(78650, 182)"
      ]
     },
     "execution_count": 114,
     "metadata": {},
     "output_type": "execute_result"
    }
   ],
   "source": [
    "df_train.shape"
   ]
  },
  {
   "cell_type": "markdown",
   "metadata": {},
   "source": [
    "# le modèle KNeighbors"
   ]
  },
  {
   "cell_type": "code",
   "execution_count": 115,
   "metadata": {},
   "outputs": [],
   "source": [
    "X_train = df_train\n",
    "y_train = df_train.target\n",
    "\n",
    "X_test = df_test\n",
    "y_test = df_test.target"
   ]
  },
  {
   "cell_type": "code",
   "execution_count": 116,
   "metadata": {},
   "outputs": [],
   "source": [
    "from sklearn.model_selection import validation_curve\n",
    "from sklearn.neighbors import KNeighborsClassifier\n"
   ]
  },
  {
   "cell_type": "code",
   "execution_count": 117,
   "metadata": {},
   "outputs": [
    {
     "data": {
      "text/plain": [
       "DummyClassifier(constant=None, random_state=None, strategy='most_frequent')"
      ]
     },
     "execution_count": 117,
     "metadata": {},
     "output_type": "execute_result"
    }
   ],
   "source": [
    "from sklearn.neighbors import KNeighborsClassifier\n",
    "from sklearn.dummy import DummyClassifier\n",
    "\n",
    "model = KNeighborsClassifier()\n",
    "baseline = DummyClassifier(strategy='most_frequent')\n",
    "\n",
    "model.fit(X_train, y_train)\n",
    "baseline.fit(X_train, y_train)"
   ]
  },
  {
   "cell_type": "code",
   "execution_count": 118,
   "metadata": {},
   "outputs": [
    {
     "name": "stdout",
     "output_type": "stream",
     "text": [
      "              precision    recall  f1-score   support\n",
      "\n",
      "           0       0.90      0.87      0.88     10990\n",
      "           1       0.91      0.93      0.92     15227\n",
      "\n",
      "    accuracy                           0.90     26217\n",
      "   macro avg       0.90      0.90      0.90     26217\n",
      "weighted avg       0.90      0.90      0.90     26217\n",
      "\n"
     ]
    }
   ],
   "source": [
    "from sklearn.metrics import classification_report, roc_auc_score\n",
    "\n",
    "print(classification_report(y_test, model.predict(X_test)))"
   ]
  },
  {
   "cell_type": "code",
   "execution_count": 119,
   "metadata": {},
   "outputs": [
    {
     "name": "stdout",
     "output_type": "stream",
     "text": [
      "              precision    recall  f1-score   support\n",
      "\n",
      "           0       0.00      0.00      0.00     10990\n",
      "           1       0.58      1.00      0.73     15227\n",
      "\n",
      "    accuracy                           0.58     26217\n",
      "   macro avg       0.29      0.50      0.37     26217\n",
      "weighted avg       0.34      0.58      0.43     26217\n",
      "\n"
     ]
    }
   ],
   "source": [
    "print(classification_report(y_test, baseline.predict(X_test), zero_division=0))\n"
   ]
  },
  {
   "cell_type": "code",
   "execution_count": null,
   "metadata": {},
   "outputs": [],
   "source": [
    "accuracy de notre modele > accuracy du baseline modele"
   ]
  },
  {
   "cell_type": "code",
   "execution_count": 98,
   "metadata": {},
   "outputs": [
    {
     "name": "stdout",
     "output_type": "stream",
     "text": [
      "train score   0.9456961220597584\n",
      "test score  0.9025822939314185\n"
     ]
    }
   ],
   "source": [
    "print(\"train score  \",model.score(X_train,y_train))\n",
    "print(\"test score \",model.score(X_test,y_test))"
   ]
  }
 ],
 "metadata": {
  "kernelspec": {
   "display_name": "Python 3",
   "language": "python",
   "name": "python3"
  },
  "language_info": {
   "codemirror_mode": {
    "name": "ipython",
    "version": 3
   },
   "file_extension": ".py",
   "mimetype": "text/x-python",
   "name": "python",
   "nbconvert_exporter": "python",
   "pygments_lexer": "ipython3",
   "version": "3.7.6"
  }
 },
 "nbformat": 4,
 "nbformat_minor": 4
}
